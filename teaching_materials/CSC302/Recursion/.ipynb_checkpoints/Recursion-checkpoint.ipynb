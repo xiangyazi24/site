{
 "cells": [
  {
   "cell_type": "markdown",
   "metadata": {
    "slideshow": {
     "slide_type": "slide"
    }
   },
   "source": [
    "# Recursion \n",
    "\n",
    "## An example\n",
    "\n",
    "Say you want to do your homework assignments, you \"algorithm\" to finish your $n$ problems is as follows\n",
    "\n",
    "---\n",
    "```python\n",
    "def doHW(n problems):\n",
    "    attack a problem\n",
    "    ask_a_friend(the rest n-1 problems) \n",
    "```\n",
    "---\n",
    "\n",
    "Well, this nothing new. It is just a function call and we did that before. \n",
    "\n",
    "We change the algorithm a bit. Now it is something new.\n",
    "\n",
    "---\n",
    "```python \n",
    "def doHW(n problems)\n",
    "    attack a problem\n",
    "    doHW(the rest n-1 problems)\n",
    "```\n",
    "---\n",
    "We say your new algorithm is **recursive**. It basically means a function calls itself.\n"
   ]
  },
  {
   "cell_type": "markdown",
   "metadata": {
    "slideshow": {
     "slide_type": "slide"
    }
   },
   "source": [
    "## Base case and more \n",
    "The above algorithm has a problem: it does not tell us how to stop. \n",
    "   1. Say we start with one problem.\n",
    "   2. We do problem 1. \n",
    "   3. When we call doHW(the rest n-1 problem), there is no problem left. We are done!\n",
    "   4. However, we will make the recursive call and keep trying to attack the next problem. \n",
    " \n",
    "**Observation**:\n",
    "   1. We need stopping condition.\n",
    "   2. We need to make progress.\n",
    "   3. We need to make recursive call. \n"
   ]
  },
  {
   "cell_type": "markdown",
   "metadata": {
    "slideshow": {
     "slide_type": "slide"
    }
   },
   "source": [
    "## The Three Laws of Recursion\n",
    "\n",
    "Like the robots of Asimov, all recursive algorithms must obey three important laws:\n",
    " 1. A recursive algorithm must have **base cases**.\n",
    " 2. A recursive algorithm must change its state and move toward the base cases.\n",
    " 3. A recursive algorithm must call itself, recursively.\n",
    " "
   ]
  },
  {
   "cell_type": "code",
   "execution_count": 17,
   "metadata": {
    "slideshow": {
     "slide_type": "slide"
    }
   },
   "outputs": [
    {
     "name": "stdout",
     "output_type": "stream",
     "text": [
      "Do question 1\n",
      "Do question 2\n",
      "Do question 3\n",
      "Do question 4\n",
      "Do question 5\n",
      "Done.\n"
     ]
    }
   ],
   "source": [
    "def doHW(hw):\n",
    "    if len(hw)==0:\n",
    "        print(\"Done.\")\n",
    "    else:\n",
    "        print(\"Do question\", hw[0] )\n",
    "        hw.pop(0)\n",
    "        doHW(hw)\n",
    "\n",
    "## test\n",
    "hw=[1, 2, 3, 4, 5]\n",
    "doHW(hw)\n",
    "    "
   ]
  },
  {
   "cell_type": "markdown",
   "metadata": {
    "slideshow": {
     "slide_type": "slide"
    }
   },
   "source": [
    " ## Caveat 1: always move towards the base cases?\n",
    " Sometimes our recursive calls does not move directly towards to the base cases, it can even move away from them. What we want to make sure is it will **eventually** move towards to the base cases.   "
   ]
  },
  {
   "cell_type": "code",
   "execution_count": 13,
   "metadata": {
    "slideshow": {
     "slide_type": "subslide"
    }
   },
   "outputs": [
    {
     "name": "stdout",
     "output_type": "stream",
     "text": [
      "Processing Syracuse(7)\n",
      "Processing Syracuse(22)\n",
      "Processing Syracuse(11)\n",
      "Processing Syracuse(34)\n",
      "Processing Syracuse(17)\n",
      "Processing Syracuse(52)\n",
      "Processing Syracuse(26)\n",
      "Processing Syracuse(13)\n",
      "Processing Syracuse(40)\n",
      "Processing Syracuse(20)\n",
      "Processing Syracuse(10)\n",
      "Processing Syracuse(5)\n",
      "Processing Syracuse(16)\n",
      "Processing Syracuse(8)\n",
      "Processing Syracuse(4)\n",
      "Processing Syracuse(2)\n",
      "Processing Syracuse(1)\n"
     ]
    }
   ],
   "source": [
    "def Syracuse(n):\n",
    "    print(\"Processing Syracuse({})\".format(n))\n",
    "    if n==1:\n",
    "        return\n",
    "    elif n%2==0:\n",
    "        Syracuse(n//2)\n",
    "    else:\n",
    "        Syracuse(3*n+1)\n",
    "\n",
    "Syracuse(7)\n",
    "        "
   ]
  },
  {
   "cell_type": "markdown",
   "metadata": {
    "slideshow": {
     "slide_type": "slide"
    }
   },
   "source": [
    "## Caveat 2: indirect recursive call\n",
    "We also have recursive function that does not call itself directly. \n",
    "Consider the following algorithm to decide parity (even/odd) of a number:"
   ]
  },
  {
   "cell_type": "code",
   "execution_count": 19,
   "metadata": {
    "slideshow": {
     "slide_type": "subslide"
    }
   },
   "outputs": [
    {
     "data": {
      "text/plain": [
       "True"
      ]
     },
     "execution_count": 19,
     "metadata": {},
     "output_type": "execute_result"
    }
   ],
   "source": [
    "def is_even(n):\n",
    "    if (n == 0):\n",
    "        return True\n",
    "    else:\n",
    "        return is_odd(n - 1)\n",
    "\n",
    "def is_odd(n):\n",
    "    if (n == 0):\n",
    "        return False\n",
    "    else:\n",
    "        return is_even(n - 1)\n",
    "    \n",
    "#test    \n",
    "is_odd(5)\n"
   ]
  },
  {
   "cell_type": "markdown",
   "metadata": {
    "slideshow": {
     "slide_type": "slide"
    }
   },
   "source": [
    "## The Three Laws of Recursion Revisit\n",
    "\n",
    "Like the robots of Asimov, all recursive algorithms must obey three important laws:\n",
    " 1. A recursive algorithm must have **base cases**.\n",
    " 2. A recursive algorithm must change its state and move toward the base cases (**eventually**).\n",
    " 3. A recursive algorithm must (**eventually**) call itself, recursively."
   ]
  },
  {
   "cell_type": "markdown",
   "metadata": {
    "slideshow": {
     "slide_type": "slide"
    }
   },
   "source": [
    "## Why do we need recursion?\n",
    "Sometimes it is more natural to attack a problem with a recursive thinking. \n",
    "\n",
    "An important way understand recursion is the **leap of faith**: when you come to a method invocation, instead of following the ow of execution, you assume that the method works correctly and returns the appropriate value.\n",
    "\n",
    "You can \"wish\" same problem of smaller size has been done. \n",
    "\n"
   ]
  },
  {
   "cell_type": "markdown",
   "metadata": {
    "slideshow": {
     "slide_type": "slide"
    }
   },
   "source": [
    "## Example: [Tower of Hanoi Animation](https://yongdanielliang.github.io/animation/web/TowerOfHanoi.html) \n",
    "\n",
    "A resursive thinking for the general solution.\n",
    "   ![A Recursive Solution](hanoi.png)"
   ]
  },
  {
   "cell_type": "code",
   "execution_count": 4,
   "metadata": {
    "slideshow": {
     "slide_type": "subslide"
    }
   },
   "outputs": [
    {
     "name": "stdout",
     "output_type": "stream",
     "text": [
      "Move disk 1 from A to C\n",
      "Move disk 2 from A to B\n",
      "Move disk 1 from C to B\n",
      "Move disk 3 from A to C\n",
      "Move disk 1 from B to A\n",
      "Move disk 2 from B to C\n",
      "Move disk 1 from A to C\n",
      "Move disk 4 from A to B\n",
      "Move disk 1 from C to B\n",
      "Move disk 2 from C to A\n",
      "Move disk 1 from B to A\n",
      "Move disk 3 from C to B\n",
      "Move disk 1 from A to C\n",
      "Move disk 2 from A to B\n",
      "Move disk 1 from C to B\n"
     ]
    }
   ],
   "source": [
    "## move n disk from \"source (s)\" peg to \"destinate (t)\" peg \n",
    "## with the help of \"helper (h)\" peg\n",
    "def Hanoi(n, s, t, h):\n",
    "    if n==1:\n",
    "        move(1,s,t)\n",
    "    else:\n",
    "        Hanoi(n-1,s, h, t)\n",
    "        move(n,s,t)\n",
    "        Hanoi(n-1,h,t,s)\n",
    "        \n",
    "# move disk n form s to t\n",
    "def move(n,s,t):\n",
    "    print(\"Move disk {} from {} to {}\".format(n, s, t))\n",
    "\n",
    "Hanoi(4,\"A\", \"B\",\"C\")"
   ]
  }
 ],
 "metadata": {
  "celltoolbar": "Slideshow",
  "kernelspec": {
   "display_name": "Python 3",
   "language": "python",
   "name": "python3"
  },
  "language_info": {
   "codemirror_mode": {
    "name": "ipython",
    "version": 3
   },
   "file_extension": ".py",
   "mimetype": "text/x-python",
   "name": "python",
   "nbconvert_exporter": "python",
   "pygments_lexer": "ipython3",
   "version": "3.8.8"
  }
 },
 "nbformat": 4,
 "nbformat_minor": 4
}
